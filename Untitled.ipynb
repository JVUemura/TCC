{
 "cells": [
  {
   "cell_type": "code",
   "execution_count": 2,
   "id": "b736d9fb",
   "metadata": {},
   "outputs": [],
   "source": [
    "import numpy as np"
   ]
  },
  {
   "cell_type": "code",
   "execution_count": 19,
   "id": "72dd1003",
   "metadata": {},
   "outputs": [],
   "source": [
    "Vccb = 1400\n",
    "Pccb = 0.8e6\n",
    "Wb = 120*np.pi"
   ]
  },
  {
   "cell_type": "code",
   "execution_count": 28,
   "id": "1328807f",
   "metadata": {},
   "outputs": [
    {
     "name": "stdout",
     "output_type": "stream",
     "text": [
      "Lti = 0.005447136976509975\n",
      "Lf1 = 0.010878886560430939\n",
      "Cf = 0.001714155534415851\n",
      "Rf3 = 0.013273469387755102\n"
     ]
    }
   ],
   "source": [
    "# Bases:\n",
    "Zb = Vccb**2/Pccb\n",
    "Cb = 1/Wb/Zb\n",
    "Lb = Cb = Zb/Wb\n",
    "\n",
    "# Dados:\n",
    "Lti = 0.0354e-3\n",
    "Lf1 = 0.0707e-3\n",
    "Cf = 11.14e-6\n",
    "Rf3 = 0.03252\n",
    "\n",
    "# Dados:\n",
    "Lti_pu = Lti/Lb\n",
    "Lf1_pu = Lf1/Lb\n",
    "Cf_pu = Cf/Cb\n",
    "Rf3_pu = Rf3/Zb\n",
    "\n",
    "print(f'Lti = {(Lti_pu)}')\n",
    "print(f'Lf1 = {(Lf1_pu)}')\n",
    "print(f'Cf = {(Cf_pu)}')\n",
    "print(f'Rf3 = {(Rf3_pu)}')"
   ]
  },
  {
   "cell_type": "code",
   "execution_count": 29,
   "id": "badeaff2",
   "metadata": {},
   "outputs": [
    {
     "data": {
      "text/plain": [
       "0.016326023536940914"
      ]
     },
     "execution_count": 29,
     "metadata": {},
     "output_type": "execute_result"
    }
   ],
   "source": [
    "(Lti_pu+Lf1_pu)"
   ]
  },
  {
   "cell_type": "code",
   "execution_count": 30,
   "id": "1b3296e6",
   "metadata": {},
   "outputs": [
    {
     "name": "stdout",
     "output_type": "stream",
     "text": [
      "Ceq_pu = 61.5496\n"
     ]
    }
   ],
   "source": [
    "Ceq = 400e-3\n",
    "Ceq_pu = Ceq/Cb\n",
    "\n",
    "print(f'Ceq_pu = {round(Ceq_pu,4)}')"
   ]
  },
  {
   "cell_type": "code",
   "execution_count": null,
   "id": "e1d0ad9b",
   "metadata": {},
   "outputs": [],
   "source": []
  }
 ],
 "metadata": {
  "kernelspec": {
   "display_name": "Python 3 (ipykernel)",
   "language": "python",
   "name": "python3"
  },
  "language_info": {
   "codemirror_mode": {
    "name": "ipython",
    "version": 3
   },
   "file_extension": ".py",
   "mimetype": "text/x-python",
   "name": "python",
   "nbconvert_exporter": "python",
   "pygments_lexer": "ipython3",
   "version": "3.9.12"
  }
 },
 "nbformat": 4,
 "nbformat_minor": 5
}
