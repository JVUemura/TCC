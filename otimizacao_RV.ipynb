{
 "cells": [
  {
   "cell_type": "code",
   "execution_count": 2,
   "id": "b736d9fb",
   "metadata": {},
   "outputs": [
    {
     "name": "stdout",
     "output_type": "stream",
     "text": [
      "Collecting geneticalgorithm\n",
      "  Downloading geneticalgorithm-1.0.2-py3-none-any.whl (16 kB)\n",
      "Collecting func-timeout\n",
      "  Downloading func_timeout-4.3.5.tar.gz (44 kB)\n",
      "\u001b[K     |████████████████████████████████| 44 kB 1.0 MB/s eta 0:00:01\n",
      "\u001b[?25hRequirement already satisfied: numpy in /home/uemura/anaconda3/lib/python3.9/site-packages (from geneticalgorithm) (1.21.5)\n",
      "Building wheels for collected packages: func-timeout\n",
      "  Building wheel for func-timeout (setup.py) ... \u001b[?25ldone\n",
      "\u001b[?25h  Created wheel for func-timeout: filename=func_timeout-4.3.5-py3-none-any.whl size=15098 sha256=31e08a51488c128255aa45f0275a21adcb19d6d844538583d3c4987ab25d3e5b\n",
      "  Stored in directory: /home/uemura/.cache/pip/wheels/ef/91/3f/17cbea1e83d17cc01bd2d66a0d59e65301bcb2d59f2f6a62ab\n",
      "Successfully built func-timeout\n",
      "Installing collected packages: func-timeout, geneticalgorithm\n",
      "Successfully installed func-timeout-4.3.5 geneticalgorithm-1.0.2\n",
      "Requirement already satisfied: control in /home/uemura/anaconda3/lib/python3.9/site-packages (0.9.2)\n",
      "Requirement already satisfied: matplotlib in /home/uemura/anaconda3/lib/python3.9/site-packages (from control) (3.5.1)\n",
      "Requirement already satisfied: scipy in /home/uemura/anaconda3/lib/python3.9/site-packages (from control) (1.7.3)\n",
      "Requirement already satisfied: numpy in /home/uemura/anaconda3/lib/python3.9/site-packages (from control) (1.21.5)\n",
      "Requirement already satisfied: kiwisolver>=1.0.1 in /home/uemura/anaconda3/lib/python3.9/site-packages (from matplotlib->control) (1.3.2)\n",
      "Requirement already satisfied: fonttools>=4.22.0 in /home/uemura/anaconda3/lib/python3.9/site-packages (from matplotlib->control) (4.25.0)\n",
      "Requirement already satisfied: pyparsing>=2.2.1 in /home/uemura/anaconda3/lib/python3.9/site-packages (from matplotlib->control) (3.0.4)\n",
      "Requirement already satisfied: pillow>=6.2.0 in /home/uemura/anaconda3/lib/python3.9/site-packages (from matplotlib->control) (9.0.1)\n",
      "Requirement already satisfied: packaging>=20.0 in /home/uemura/anaconda3/lib/python3.9/site-packages (from matplotlib->control) (21.3)\n",
      "Requirement already satisfied: python-dateutil>=2.7 in /home/uemura/anaconda3/lib/python3.9/site-packages (from matplotlib->control) (2.8.2)\n",
      "Requirement already satisfied: cycler>=0.10 in /home/uemura/anaconda3/lib/python3.9/site-packages (from matplotlib->control) (0.11.0)\n",
      "Requirement already satisfied: six>=1.5 in /home/uemura/anaconda3/lib/python3.9/site-packages (from python-dateutil>=2.7->matplotlib->control) (1.16.0)\n"
     ]
    }
   ],
   "source": [
    "# Importando bibliotecas básicas:\n",
    "import numpy as np\n",
    "import matplotlib.pyplot as plt\n",
    "\n",
    "# Instalando e importando a toolbox GA:\n",
    "!pip install geneticalgorithm\n",
    "from geneticalgorithm import geneticalgorithm as ga\n",
    "\n",
    "# Instalando e importando a toolbox Control:\n",
    "!pip install control\n",
    "from control.matlab import *"
   ]
  },
  {
   "cell_type": "markdown",
   "id": "10923cb3",
   "metadata": {},
   "source": [
    "### Função para o erro:"
   ]
  },
  {
   "cell_type": "code",
   "execution_count": 5,
   "id": "609a3ec2",
   "metadata": {},
   "outputs": [],
   "source": [
    "def errorF(p):\n",
    "    # Variáveis de otimização:\n",
    "    kp = p[0]\n",
    "    ki = p[1]\n",
    "    # Declaração de parâmetros:\n",
    "    N = 111.5\n",
    "    J = 5.9e6/N**2 + 59\n",
    "    D = 0\n",
    "    # Funções basicas:\n",
    "    G = tf([1], [J,D])\n",
    "    C = tf([kp, ki], [1,0])\n",
    "    MA = G*C\n",
    "    # Gang of four:\n",
    "    ftMF = tf([ki], [J, (D+kp), ki])\n",
    "    ftAC = tf([ki], [1,0])/(1+MA)\n",
    "    ftRD = G/(1+MA)\n",
    "    ftSE = 1/(1+MA)\n",
    "    \n",
    "    # Performance:\n",
    "    iMF = stepinfo(ftMF,SettlingTimeThreshold=0.02)\n",
    "    iAC = stepinfo(ftAC,SettlingTimeThreshold=0.02)\n",
    "    iRD = stepinfo(ftRD,SettlingTimeThreshold=0.02)\n",
    "    iSE = stepinfo(ftSE,SettlingTimeThreshold=0.02)\n",
    "    \n",
    "    \n",
    "    # Objetivo de minimização:\n",
    "    eq = abs(iMF['SettlingTime']+iMF['Peak'])**2 + abs(iRD['SettlingTime']+iRD['Peak']) + abs(iAC['Peak']) + abs(2-iSE['Peak'])**2\n",
    "    \n",
    "    return eq"
   ]
  },
  {
   "cell_type": "markdown",
   "id": "8fcb4842",
   "metadata": {},
   "source": [
    "### Otimização:"
   ]
  },
  {
   "cell_type": "code",
   "execution_count": 28,
   "id": "50863bfd",
   "metadata": {},
   "outputs": [
    {
     "name": "stderr",
     "output_type": "stream",
     "text": [
      "/home/uemura/anaconda3/lib/python3.9/site-packages/control/timeresp.py:1556: RuntimeWarning: divide by zero encountered in true_divide\n",
      "  np.abs(yout/InfValue-1) >= SettlingTimeThreshold)[0][-1]+1\n"
     ]
    },
    {
     "name": "stdout",
     "output_type": "stream",
     "text": [
      " The best solution found:                                                                           \n",
      " [829.71401371 678.82268452]\n",
      "\n",
      " Objective function:\n",
      " nan\n"
     ]
    },
    {
     "data": {
      "image/png": "[encoded data removed]",
      "text/plain": [
       "<Figure size 432x288 with 1 Axes>"
      ]
     },
     "metadata": {
      "needs_background": "light"
     },
     "output_type": "display_data"
    },
    {
     "name": "stdout",
     "output_type": "stream",
     "text": [
      "Retorno do GA:\n",
      "kp =  829.7140137059075\n",
      "ki =  678.8226845200812\n"
     ]
    }
   ],
   "source": [
    "varbound=np.array([[1e-6, 2e3], [1e-6,2e3]])\n",
    "\n",
    "algorithm_param = {'max_num_iteration': 100,\\\n",
    "                   'population_size':35,\\\n",
    "                   'mutation_probability':0.5,\\\n",
    "                   'elit_ratio': 0.0001,\\\n",
    "                   'crossover_probability': 0.5,\\\n",
    "                   'parents_portion': 0.2,\\\n",
    "                   'crossover_type':'uniform',\\\n",
    "                   'max_iteration_without_improv':None}\n",
    "\n",
    "model=ga(function=errorF,\\\n",
    "            dimension=2,\\\n",
    "            variable_type='real',\\\n",
    "            variable_boundaries=varbound,\\\n",
    "            algorithm_parameters=algorithm_param)\n",
    "\n",
    "model.run()\n",
    "\n",
    "# Getting the answer from GA:\n",
    "p = model.best_variable\n",
    "\n",
    "print('Retorno do GA:')\n",
    "print('kp = ', p[0])\n",
    "print('ki = ', p[1])"
   ]
  },
  {
   "cell_type": "markdown",
   "id": "1c9e8b21",
   "metadata": {},
   "source": [
    "### Resultados:"
   ]
  },
  {
   "cell_type": "code",
   "execution_count": 29,
   "id": "e42ac85f",
   "metadata": {},
   "outputs": [],
   "source": [
    "# Variáveis de otimização:\n",
    "kp = p[0]\n",
    "ki = p[1]\n",
    "# Declaração de parâmetros:\n",
    "N = 111.5\n",
    "J = 5.9e6/N**2 + 59\n",
    "D = 0\n",
    "# Funções basicas:\n",
    "G = tf([1], [J,D])\n",
    "C = tf([kp, ki], [1,0])\n",
    "MA = G*C\n",
    "# Gang of four:\n",
    "ftMF = tf([ki], [J, (D+kp), ki])\n",
    "ftAC = tf([ki], [1,0])/(1+MA)\n",
    "ftRD = G/(1+MA)\n",
    "ftSE = 1/(1+MA)"
   ]
  },
  {
   "cell_type": "code",
   "execution_count": 30,
   "id": "ad09d1fe",
   "metadata": {},
   "outputs": [
    {
     "data": {
      "text/latex": [
       "$$\\frac{678.8}{533.6 s^2 + 829.7 s + 678.8}$$"
      ],
      "text/plain": [
       "TransferFunction(array([678.82268452]), array([533.57218122, 829.71401371, 678.82268452]))"
      ]
     },
     "metadata": {},
     "output_type": "display_data"
    },
    {
     "data": {
      "text/latex": [
       "$$\\frac{533.6 s^2}{2.847 \\times 10^{5} s^3 + 4.427 \\times 10^{5} s^2 + 3.622 \\times 10^{5} s}$$"
      ],
      "text/plain": [
       "TransferFunction(array([533.57218122,   0.        ,   0.        ]), array([284699.27257424, 442712.31608371, 362200.90044251,      0.        ]))"
      ]
     },
     "metadata": {},
     "output_type": "display_data"
    },
    {
     "data": {
      "text/latex": [
       "$$\\frac{3.622 \\times 10^{5} s^2}{533.6 s^3 + 829.7 s^2 + 678.8 s}$$"
      ],
      "text/plain": [
       "TransferFunction(array([362200.90044251,      0.        ,      0.        ]), array([533.57218122, 829.71401371, 678.82268452,   0.        ]))"
      ]
     },
     "metadata": {},
     "output_type": "display_data"
    },
    {
     "data": {
      "text/latex": [
       "$$\\frac{533.6 s^2}{533.6 s^2 + 829.7 s + 678.8}$$"
      ],
      "text/plain": [
       "TransferFunction(array([533.57218122,   0.        ,   0.        ]), array([533.57218122, 829.71401371, 678.82268452]))"
      ]
     },
     "metadata": {},
     "output_type": "display_data"
    }
   ],
   "source": [
    "display(ftMF)\n",
    "display(ftRD)\n",
    "display(ftAC)\n",
    "display(ftSE)"
   ]
  },
  {
   "cell_type": "code",
   "execution_count": 31,
   "id": "b1e6ae37",
   "metadata": {},
   "outputs": [
    {
     "data": {
      "image/png": "[encoded data removed]",
      "text/plain": [
       "<Figure size 576x144 with 1 Axes>"
      ]
     },
     "metadata": {
      "needs_background": "light"
     },
     "output_type": "display_data"
    }
   ],
   "source": [
    "y,t = step(ftMF)\n",
    "# Declaração da Figura:\n",
    "fig, ax1 = plt.subplots(1, 1, sharex=True)\n",
    "fig.set_size_inches(8, 2)\n",
    "# Plots:\n",
    "ax1.plot(t, y, color='g', label='Saída')\n",
    "\n",
    "ax1.set(xlabel='tempo (s)',    ylabel='Malha Fechada')\n",
    "\n",
    "ax1.grid(True, linestyle='dotted')\n",
    "\n",
    "plt.show()"
   ]
  },
  {
   "cell_type": "code",
   "execution_count": 32,
   "id": "e67ce575",
   "metadata": {},
   "outputs": [
    {
     "data": {
      "image/png": "[encoded data removed]",
      "text/plain": [
       "<Figure size 576x144 with 1 Axes>"
      ]
     },
     "metadata": {
      "needs_background": "light"
     },
     "output_type": "display_data"
    }
   ],
   "source": [
    "y,t = step(ftRD)\n",
    "# Declaração da Figura:\n",
    "fig, ax1 = plt.subplots(1, 1, sharex=True)\n",
    "fig.set_size_inches(8, 2)\n",
    "# Plots:\n",
    "ax1.plot(t, y, color='r', label='Saída')\n",
    "\n",
    "ax1.set(xlabel='tempo (s)',    ylabel='Rejeição Distúrbio')\n",
    "\n",
    "ax1.grid(True, linestyle='dotted')\n",
    "\n",
    "plt.show()"
   ]
  },
  {
   "cell_type": "code",
   "execution_count": 33,
   "id": "d4d9273c",
   "metadata": {},
   "outputs": [
    {
     "data": {
      "image/png": "[encoded data removed]",
      "text/plain": [
       "<Figure size 576x144 with 1 Axes>"
      ]
     },
     "metadata": {
      "needs_background": "light"
     },
     "output_type": "display_data"
    }
   ],
   "source": [
    "y,t = step(ftAC)\n",
    "# Declaração da Figura:\n",
    "fig, ax1 = plt.subplots(1, 1, sharex=True)\n",
    "fig.set_size_inches(8, 2)\n",
    "# Plots:\n",
    "ax1.plot(t, y, color='b', label='Saída')\n",
    "\n",
    "ax1.set(xlabel='tempo (s)',    ylabel='Ação Controle')\n",
    "\n",
    "ax1.grid(True, linestyle='dotted')\n",
    "\n",
    "plt.show()"
   ]
  },
  {
   "cell_type": "code",
   "execution_count": 34,
   "id": "046c9a1b",
   "metadata": {},
   "outputs": [
    {
     "data": {
      "image/png": "[encoded data removed]",
      "text/plain": [
       "<Figure size 576x288 with 2 Axes>"
      ]
     },
     "metadata": {
      "needs_background": "light"
     },
     "output_type": "display_data"
    }
   ],
   "source": [
    "[m,a,w] = bode(ftSE, plot=False)\n",
    "\n",
    "# Declaração da Figura:\n",
    "fig, [ax1, ax2] = plt.subplots(2, 1, sharex=True)\n",
    "fig.set_size_inches(8, 4)\n",
    "# Plots:\n",
    "ax1.plot(w, 20*np.log10(m),    color='r')\n",
    "ax2.plot(w, 180/np.pi*a,    color='b')\n",
    "\n",
    "ax1.set(xlabel='',    ylabel='Magnitude (dB)')\n",
    "ax2.set(xlabel='frequência (rad/s)',    ylabel='Fase (°)')\n",
    "\n",
    "ax1.grid(True, linestyle='dotted')\n",
    "ax2.grid(True, linestyle='dotted')\n",
    "\n",
    "ax1.set_xscale('log')\n",
    "ax2.set_xscale('log')\n",
    "\n",
    "plt.show()\n",
    "# fig.savefig(\"grafico_Y.pdf\", bbox_inches='tight')"
   ]
  },
  {
   "cell_type": "code",
   "execution_count": 35,
   "id": "d3b6a855",
   "metadata": {},
   "outputs": [
    {
     "data": {
      "text/plain": [
       "0.0107249504129381"
      ]
     },
     "execution_count": 35,
     "metadata": {},
     "output_type": "execute_result"
    }
   ],
   "source": [
    "max(20*np.log10(m))"
   ]
  },
  {
   "cell_type": "code",
   "execution_count": null,
   "id": "9aea5ff2",
   "metadata": {},
   "outputs": [],
   "source": []
  }
 ],
 "metadata": {
  "kernelspec": {
   "display_name": "Python 3 (ipykernel)",
   "language": "python",
   "name": "python3"
  },
  "language_info": {
   "codemirror_mode": {
    "name": "ipython",
    "version": 3
   },
   "file_extension": ".py",
   "mimetype": "text/x-python",
   "name": "python",
   "nbconvert_exporter": "python",
   "pygments_lexer": "ipython3",
   "version": "3.9.12"
  }
 },
 "nbformat": 4,
 "nbformat_minor": 5
}
