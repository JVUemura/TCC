{
 "cells": [
  {
   "cell_type": "code",
   "execution_count": 7,
   "metadata": {
    "colab": {
     "base_uri": "https://localhost:8080/"
    },
    "executionInfo": {
     "elapsed": 13319,
     "status": "ok",
     "timestamp": 1666390400603,
     "user": {
      "displayName": "Mauad Uemura",
      "userId": "08381786901392398228"
     },
     "user_tz": 180
    },
    "id": "ptK-RoTl3_2J",
    "outputId": "f51f0919-c71a-42e2-a15e-b71f33394dff"
   },
   "outputs": [],
   "source": [
    "import numpy as np\n",
    "import matplotlib.pyplot as plt\n",
    "from scipy.optimize import root_scalar as root\n",
    "import scipy.io"
   ]
  },
  {
   "cell_type": "code",
   "execution_count": 12,
   "metadata": {
    "id": "dvWO0ndxQJwK"
   },
   "outputs": [],
   "source": [
    "# Declaração dos parâmetros:\n",
    "Vw_nom = 12\n",
    "Vw_wmax = 11.175720428894175\n",
    "R = 37.5\n",
    "A = np.pi*R**2\n",
    "par = 1.225\n",
    "lbd_opt = 6.3249\n",
    "\n",
    "# Função da velocidade angular da máquina:\n",
    "def Wrm(Vw):\n",
    "  return lbd_opt*Vw/R\n",
    "\n",
    "# Função do coeficiente de potência:\n",
    "def Cp(LBD,beta):\n",
    "  C = [0.22,116,0.4,0,0,5,12.5,0.08,0.035]\n",
    "  alpha = (1 / (LBD + beta * C[7]) - C[8] / (beta ** 3 + 1))**-1\n",
    "  Cp = C[0] * (C[1] / alpha - C[2] * beta - C[3] * beta ** C[4] - C[5]) * np.exp(-C[6] / alpha)\n",
    "  return Cp\n",
    "\n",
    "# Função da potência da turbina:\n",
    "def Ptur(Vw, Wtur, beta):\n",
    "  LBD = R * Wtur/Vw\n",
    "  Ptur = 1 / 2 * par * A *Cp(LBD, beta)* Vw **3\n",
    "  return Ptur\n",
    "\n",
    "Wtur_nom = Wrm(Vw_wmax)\n",
    "Ptur_nom = Ptur(Vw_nom, Wtur_nom, 0)\n",
    "\n",
    "# Função objetivo:\n",
    "def F(Vw):\n",
    "  def f(beta):\n",
    "    return Ptur_nom- Ptur(Vw,Wtur_nom,beta)\n",
    "  return f\n",
    "\n",
    "# Declaração dos vetores necessários:\n",
    "Vw_vet = np.linspace(12,25,30)\n",
    "beta_vet = np.zeros_like(Vw_vet)\n",
    "v0 = 0\n",
    "\n",
    "# Chamando solver:\n",
    "for k,v in enumerate(Vw_vet):\n",
    "  sol = root(F(v), bracket=(0,35), method='bisect')\n",
    "  beta_vet[k] = sol.root\n",
    "  v0 = beta_vet[k]"
   ]
  },
  {
   "cell_type": "code",
   "execution_count": 13,
   "metadata": {
    "colab": {
     "base_uri": "https://localhost:8080/",
     "height": 174
    },
    "executionInfo": {
     "elapsed": 477,
     "status": "ok",
     "timestamp": 1666390455382,
     "user": {
      "displayName": "Mauad Uemura",
      "userId": "08381786901392398228"
     },
     "user_tz": 180
    },
    "id": "Sm9tMvpzrNPA",
    "outputId": "5bf494ca-8e02-4028-d923-313bf91a3f01"
   },
   "outputs": [
    {
     "data": {
      "image/png": "[encoded data removed]",
      "text/plain": [
       "<Figure size 576x144 with 1 Axes>"
      ]
     },
     "metadata": {
      "needs_background": "light"
     },
     "output_type": "display_data"
    }
   ],
   "source": [
    "# Declaração da Figura:\n",
    "fig, ax = plt.subplots()\n",
    "fig.set_size_inches(8, 2)\n",
    "\n",
    "ax.plot(Vw_vet, beta_vet)\n",
    "ax.set(xlabel='$V_w$ (m/s)',    ylabel='$\\\\beta$ (°)')\n",
    "ax.grid(True, linestyle='dotted')\n",
    "\n",
    "fig.savefig(\"reg4.pdf\", bbox_inches='tight', pad_inches=0)"
   ]
  },
  {
   "cell_type": "code",
   "execution_count": 10,
   "metadata": {
    "id": "bIG5vaQOuph8"
   },
   "outputs": [],
   "source": [
    "# Exportando Loockup table compatível com a linguagem Modelica\n",
    "mybeta = np.array([(Vw_vet-12).tolist(), beta_vet.tolist()]).T\n",
    "scipy.io.savemat('mybeta.mat', {'beta':mybeta})"
   ]
  }
 ],
 "metadata": {
  "colab": {
   "authorship_tag": "ABX9TyMJ5i23xNrq/M9I9ryRrFk/",
   "collapsed_sections": [
    "tbo6DBhdbZNt",
    "9y1HmEyfC0ig"
   ],
   "provenance": []
  },
  "kernelspec": {
   "display_name": "Python 3 (ipykernel)",
   "language": "python",
   "name": "python3"
  },
  "language_info": {
   "codemirror_mode": {
    "name": "ipython",
    "version": 3
   },
   "file_extension": ".py",
   "mimetype": "text/x-python",
   "name": "python",
   "nbconvert_exporter": "python",
   "pygments_lexer": "ipython3",
   "version": "3.9.12"
  }
 },
 "nbformat": 4,
 "nbformat_minor": 1
}
