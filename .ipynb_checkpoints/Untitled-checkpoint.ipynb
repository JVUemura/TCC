{
 "cells": [
  {
   "cell_type": "code",
   "execution_count": 2,
   "id": "b736d9fb",
   "metadata": {},
   "outputs": [
    {
     "name": "stdout",
     "output_type": "stream",
     "text": [
      "Collecting geneticalgorithm\n",
      "  Downloading geneticalgorithm-1.0.2-py3-none-any.whl (16 kB)\n",
      "Collecting func-timeout\n",
      "  Downloading func_timeout-4.3.5.tar.gz (44 kB)\n",
      "\u001b[K     |████████████████████████████████| 44 kB 1.0 MB/s eta 0:00:01\n",
      "\u001b[?25hRequirement already satisfied: numpy in /home/uemura/anaconda3/lib/python3.9/site-packages (from geneticalgorithm) (1.21.5)\n",
      "Building wheels for collected packages: func-timeout\n",
      "  Building wheel for func-timeout (setup.py) ... \u001b[?25ldone\n",
      "\u001b[?25h  Created wheel for func-timeout: filename=func_timeout-4.3.5-py3-none-any.whl size=15098 sha256=31e08a51488c128255aa45f0275a21adcb19d6d844538583d3c4987ab25d3e5b\n",
      "  Stored in directory: /home/uemura/.cache/pip/wheels/ef/91/3f/17cbea1e83d17cc01bd2d66a0d59e65301bcb2d59f2f6a62ab\n",
      "Successfully built func-timeout\n",
      "Installing collected packages: func-timeout, geneticalgorithm\n",
      "Successfully installed func-timeout-4.3.5 geneticalgorithm-1.0.2\n",
      "Requirement already satisfied: control in /home/uemura/anaconda3/lib/python3.9/site-packages (0.9.2)\n",
      "Requirement already satisfied: matplotlib in /home/uemura/anaconda3/lib/python3.9/site-packages (from control) (3.5.1)\n",
      "Requirement already satisfied: scipy in /home/uemura/anaconda3/lib/python3.9/site-packages (from control) (1.7.3)\n",
      "Requirement already satisfied: numpy in /home/uemura/anaconda3/lib/python3.9/site-packages (from control) (1.21.5)\n",
      "Requirement already satisfied: kiwisolver>=1.0.1 in /home/uemura/anaconda3/lib/python3.9/site-packages (from matplotlib->control) (1.3.2)\n",
      "Requirement already satisfied: fonttools>=4.22.0 in /home/uemura/anaconda3/lib/python3.9/site-packages (from matplotlib->control) (4.25.0)\n",
      "Requirement already satisfied: pyparsing>=2.2.1 in /home/uemura/anaconda3/lib/python3.9/site-packages (from matplotlib->control) (3.0.4)\n",
      "Requirement already satisfied: pillow>=6.2.0 in /home/uemura/anaconda3/lib/python3.9/site-packages (from matplotlib->control) (9.0.1)\n",
      "Requirement already satisfied: packaging>=20.0 in /home/uemura/anaconda3/lib/python3.9/site-packages (from matplotlib->control) (21.3)\n",
      "Requirement already satisfied: python-dateutil>=2.7 in /home/uemura/anaconda3/lib/python3.9/site-packages (from matplotlib->control) (2.8.2)\n",
      "Requirement already satisfied: cycler>=0.10 in /home/uemura/anaconda3/lib/python3.9/site-packages (from matplotlib->control) (0.11.0)\n",
      "Requirement already satisfied: six>=1.5 in /home/uemura/anaconda3/lib/python3.9/site-packages (from python-dateutil>=2.7->matplotlib->control) (1.16.0)\n"
     ]
    }
   ],
   "source": [
    "# Importando bibliotecas básicas:\n",
    "import numpy as np\n",
    "import matplotlib.pyplot as plt\n",
    "\n",
    "# Instalando e importando a toolbox GA:\n",
    "!pip install geneticalgorithm\n",
    "from geneticalgorithm import geneticalgorithm as ga\n",
    "\n",
    "# Instalando e importando a toolbox Control:\n",
    "!pip install control\n",
    "from control.matlab import *"
   ]
  },
  {
   "cell_type": "markdown",
   "id": "8eaa4e8e",
   "metadata": {},
   "source": [
    "### Função para o erro:"
   ]
  },
  {
   "cell_type": "code",
   "execution_count": 4,
   "id": "5e438eee",
   "metadata": {},
   "outputs": [
    {
     "ename": "SyntaxError",
     "evalue": "unexpected character after line continuation character (3244282172.py, line 27)",
     "output_type": "error",
     "traceback": [
      "\u001b[0;36m  Input \u001b[0;32mIn [4]\u001b[0;36m\u001b[0m\n\u001b[0;31m    eq = abs(iMF['SettlingTime']+iMF['Peak'])**2 + abs(iRD['SettlingTime']+iRD['Peak']) + abs(iAC['Peak'])                           \\ # Minimizar o pico AC\u001b[0m\n\u001b[0m                                                                                                                                      ^\u001b[0m\n\u001b[0;31mSyntaxError\u001b[0m\u001b[0;31m:\u001b[0m unexpected character after line continuation character\n"
     ]
    }
   ],
   "source": [
    "def errorF(p):\n",
    "    # Variáveis de otimização:\n",
    "    kp = p[0]\n",
    "    ki = p[1]\n",
    "    # Declaração de parâmetros:\n",
    "    N = 111.5\n",
    "    J = 5.9e6/N**2 + 59\n",
    "    D = 0\n",
    "    # Funções basicas:\n",
    "    G = tf([1], [J,D])\n",
    "    C = tf([kp, ki], [1,0])\n",
    "    MA = G*C\n",
    "    # Gang of four:\n",
    "    ftMF = tf([ki], [J, (D+kp), ki])\n",
    "    ftAC = tf([ki], [1,0])/(1+MA)\n",
    "    ftRD = G/(1+MA)\n",
    "    ftSE = 1/(1+MA)\n",
    "    \n",
    "    # Performance:\n",
    "    iMF = stepinfo(ftMF,SettlingTimeThreshold=0.02)\n",
    "    iAC = stepinfo(ftAC,SettlingTimeThreshold=0.02)\n",
    "    iRD = stepinfo(ftRD,SettlingTimeThreshold=0.02)\n",
    "    iSE = stepinfo(ftSE,SettlingTimeThreshold=0.02)\n",
    "    \n",
    "    \n",
    "    # Objetivo de minimização:\n",
    "    eq = abs(iMF['SettlingTime']+iMF['Peak'])**2 + abs(iRD['SettlingTime']+iRD['Peak']) + abs(iAC['Peak']) + abs(2-iSE['Peak'])**2\n",
    "    \n",
    "    return eq"
   ]
  },
  {
   "cell_type": "markdown",
   "id": "b6a7086a",
   "metadata": {},
   "source": [
    "### Otimização:"
   ]
  },
  {
   "cell_type": "code",
   "execution_count": null,
   "id": "17a8d131",
   "metadata": {},
   "outputs": [],
   "source": [
    "varbound=np.array([[1e-6, 2e3], [1e-6,2e3]])\n",
    "\n",
    "algorithm_param = {'max_num_iteration': 100,\\\n",
    "                   'population_size':35,\\\n",
    "                   'mutation_probability':0.5,\\\n",
    "                   'elit_ratio': 0.0001,\\\n",
    "                   'crossover_probability': 0.5,\\\n",
    "                   'parents_portion': 0.2,\\\n",
    "                   'crossover_type':'uniform',\\\n",
    "                   'max_iteration_without_improv':None}\n",
    "\n",
    "model=ga(function=errorPI,\\\n",
    "            dimension=2,\\\n",
    "            variable_type='real',\\\n",
    "            variable_boundaries=varbound,\\\n",
    "            algorithm_parameters=algorithm_param)\n",
    "\n",
    "model.run()\n",
    "\n",
    "# Getting the answer from GA:\n",
    "p = model.best_variable\n",
    "\n",
    "print('Retorno do GA:')\n",
    "print('kp = ', p[0])\n",
    "print('ki = ', p[1])"
   ]
  },
  {
   "cell_type": "markdown",
   "id": "2e67081d",
   "metadata": {},
   "source": [
    "### Resultados:"
   ]
  },
  {
   "cell_type": "code",
   "execution_count": null,
   "id": "ee9e07ce",
   "metadata": {},
   "outputs": [],
   "source": [
    "    # Funções basicas:\n",
    "    G = tf([1], [J,D])\n",
    "    C = tf([kp, ki], [1,0])\n",
    "    MA = G*C\n",
    "    # Gang of four:\n",
    "    ftMF = tf([ki], [J, (D+kp), ki])\n",
    "    ftAC = tf([ki], [1,0])/(1+MA)\n",
    "    ftRD = G/(1+MA)\n",
    "    ftSE = 1/(1+MA)"
   ]
  }
 ],
 "metadata": {
  "kernelspec": {
   "display_name": "Python 3 (ipykernel)",
   "language": "python",
   "name": "python3"
  },
  "language_info": {
   "codemirror_mode": {
    "name": "ipython",
    "version": 3
   },
   "file_extension": ".py",
   "mimetype": "text/x-python",
   "name": "python",
   "nbconvert_exporter": "python",
   "pygments_lexer": "ipython3",
   "version": "3.9.12"
  }
 },
 "nbformat": 4,
 "nbformat_minor": 5
}
